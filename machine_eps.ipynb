{
 "cells": [
  {
   "cell_type": "markdown",
   "metadata": {},
   "source": [
    "Нахождение машинного эпсилон."
   ]
  },
  {
   "cell_type": "code",
   "execution_count": 6,
   "metadata": {},
   "outputs": [
    {
     "data": {
      "text/plain": [
       "2.220446049250313e-16"
      ]
     },
     "execution_count": 6,
     "metadata": {},
     "output_type": "execute_result"
    }
   ],
   "source": [
    "eps = 1\n",
    "\n",
    "while not(1 + eps/2 == 1 and 1 + eps != 1):\n",
    "    eps /= 2\n",
    "\n",
    "eps"
   ]
  },
  {
   "cell_type": "markdown",
   "metadata": {},
   "source": [
    "Имея точность мантиссы t и основание b, можно вычислить машинное эпсилон как eps = b ^ (1 - t). \n",
    "Если выразить, получается, что \n",
    "1 - t = logb(eps)\n",
    "t = 1 - logb(eps)"
   ]
  },
  {
   "cell_type": "code",
   "execution_count": 7,
   "metadata": {},
   "outputs": [
    {
     "data": {
      "text/plain": [
       "53.0"
      ]
     },
     "execution_count": 7,
     "metadata": {},
     "output_type": "execute_result"
    }
   ],
   "source": [
    "import math\n",
    "\n",
    "t = 1 - math.log(eps, 2)\n",
    "\n",
    "t"
   ]
  },
  {
   "cell_type": "markdown",
   "metadata": {},
   "source": [
    "Чтобы узнать максимальные и минимальные степени emax и emin, воспользуемся стандартами самого Python. "
   ]
  },
  {
   "cell_type": "code",
   "execution_count": 30,
   "metadata": {},
   "outputs": [
    {
     "name": "stdout",
     "output_type": "stream",
     "text": [
      "emax = 1024, emin = -1021\n"
     ]
    }
   ],
   "source": [
    "import sys\n",
    "\n",
    "print(f'emax = {sys.float_info.max_exp}, emin = {sys.float_info.min_exp}')"
   ]
  },
  {
   "cell_type": "markdown",
   "metadata": {},
   "source": [
    "Сравним 1, 1 + eps / 2, 1 + eps, 1 + eps + eps / 2:"
   ]
  },
  {
   "cell_type": "code",
   "execution_count": 29,
   "metadata": {},
   "outputs": [
    {
     "data": {
      "text/plain": [
       "[True, False, False, False, False, False]"
      ]
     },
     "execution_count": 29,
     "metadata": {},
     "output_type": "execute_result"
    }
   ],
   "source": [
    "relations = [1 == 1 + eps/2, 1 == 1 + eps, 1 == 1 + eps + eps/2, \n",
    "    1 + eps/2 == 1 + eps, 1 + eps/2 == 1 + eps + eps/2,\n",
    "    1 + eps == 1 + eps + eps/2]\n",
    "\n",
    "relations"
   ]
  },
  {
   "cell_type": "markdown",
   "metadata": {},
   "source": [
    "Машинное эпсилон задаётся таким образом, что eps/2 считается компьютером как 0. Поэтому, в данном примере все, кроме первого равенства, будут неверны. Казалось бы, в таком случае последнее равенство должно было бы быть истинным, однако интерпретатор Python работает таким образом, что eps + eps / 2 воспринимается как eps ^ (3 / 2), что даёт нам некоторое маленькое число, не равное нулю."
   ]
  },
  {
   "cell_type": "code",
   "execution_count": 28,
   "metadata": {},
   "outputs": [
    {
     "data": {
      "text/plain": [
       "False"
      ]
     },
     "execution_count": 28,
     "metadata": {},
     "output_type": "execute_result"
    }
   ],
   "source": [
    "1 + eps/2 + eps == 1 + eps + eps/2"
   ]
  },
  {
   "cell_type": "markdown",
   "metadata": {},
   "source": [
    "В процессе тестировки, я заметила, что перестановка операций влияет на порядок - они происходят слева направо, из-за чего левое выражение равняется 1 + eps, а правое 1 + eps ^ (3 / 2)"
   ]
  },
  {
   "cell_type": "code",
   "execution_count": 31,
   "metadata": {},
   "outputs": [
    {
     "data": {
      "text/plain": [
       "False"
      ]
     },
     "execution_count": 31,
     "metadata": {},
     "output_type": "execute_result"
    }
   ],
   "source": [
    "(1 + 10 ** -16) + 10 ** -16 == 1 + (10 ** -16 + 10 ** -16)"
   ]
  },
  {
   "cell_type": "markdown",
   "metadata": {},
   "source": [
    "По этой же причине, данное равенство не истинно. Машинное эпсилон примерно равно числу на 10 ** -16, так что данное выражение напоминает операции с ними. Также, нужно не забывать про то, что в каждом числе с плавающей точкой есть некоторая погрешность, из-за чего она может разниться от порядка и ассоциативность не работает."
   ]
  }
 ],
 "metadata": {
  "kernelspec": {
   "display_name": "Python 3.10.2 64-bit",
   "language": "python",
   "name": "python3"
  },
  "language_info": {
   "codemirror_mode": {
    "name": "ipython",
    "version": 3
   },
   "file_extension": ".py",
   "mimetype": "text/x-python",
   "name": "python",
   "nbconvert_exporter": "python",
   "pygments_lexer": "ipython3",
   "version": "3.10.2"
  },
  "orig_nbformat": 4,
  "vscode": {
   "interpreter": {
    "hash": "aee8b7b246df8f9039afb4144a1f6fd8d2ca17a180786b69acc140d282b71a49"
   }
  }
 },
 "nbformat": 4,
 "nbformat_minor": 2
}
