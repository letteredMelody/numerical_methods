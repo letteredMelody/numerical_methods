{
 "cells": [
  {
   "cell_type": "markdown",
   "metadata": {},
   "source": [
    "#### **Найти значения интерполяционного полинома для различных n.**"
   ]
  },
  {
   "cell_type": "markdown",
   "metadata": {},
   "source": [
    "Для начала работы, запишем все данные:"
   ]
  },
  {
   "cell_type": "code",
   "execution_count": null,
   "metadata": {},
   "outputs": [],
   "source": [
    "def f(x):\n",
    "    return 1 / (1 + 25 * x**2)\n",
    "\n",
    "def xi(i, n):\n",
    "    return -1 + (2 * i) / n"
   ]
  },
  {
   "cell_type": "markdown",
   "metadata": {},
   "source": [
    "Используем переменные a и b для хранения пределов, в которых находится корень:"
   ]
  },
  {
   "cell_type": "code",
   "execution_count": null,
   "metadata": {},
   "outputs": [],
   "source": [
    "a = -1\n",
    "b = 1"
   ]
  },
  {
   "cell_type": "code",
   "execution_count": null,
   "metadata": {},
   "outputs": [],
   "source": [
    "def L(n, k):\n",
    "    ans = 1\n",
    "\n",
    "    for i in range(k):\n",
    "        ans *= (xi(k, n) - xi(i, n))\n",
    "    for i in range(k + 1, n):\n",
    "        ans *= (xi(k, n) - xi(i, n))\n",
    "\n",
    "    return L\n",
    "\n",
    "def A(m, n, func):\n",
    "    ans = 0\n",
    "\n",
    "    for i in range(m):\n",
    "        ans += (func(xi(i, n)) / L(m, i))\n",
    "\n",
    "    return ans"
   ]
  },
  {
   "cell_type": "markdown",
   "metadata": {},
   "source": [
    "Решение:"
   ]
  }
 ],
 "metadata": {
  "kernelspec": {
   "display_name": "Python 3.11.0 64-bit (microsoft store)",
   "language": "python",
   "name": "python3"
  },
  "language_info": {
   "name": "python",
   "version": "3.11.0"
  },
  "orig_nbformat": 4,
  "vscode": {
   "interpreter": {
    "hash": "789d98c5e87cbfe19632bbf63add8cca8da9b5f83f431887103ff7de9de53dd9"
   }
  }
 },
 "nbformat": 4,
 "nbformat_minor": 2
}
