{
 "cells": [
  {
   "cell_type": "markdown",
   "metadata": {},
   "source": [
    "#### **Решить систему дифференциальных уравнений**"
   ]
  },
  {
   "cell_type": "code",
   "execution_count": 15,
   "metadata": {},
   "outputs": [],
   "source": [
    "import numpy as np\n",
    "import pandas as pd"
   ]
  },
  {
   "cell_type": "markdown",
   "metadata": {},
   "source": [
    "Выпишем условия данных функций для работы и последующей проверки:"
   ]
  },
  {
   "cell_type": "code",
   "execution_count": 16,
   "metadata": {},
   "outputs": [],
   "source": [
    "def dx_dt(x, y):\n",
    "    return -2 * x + 4 * y\n",
    "\n",
    "def dy_dt(x, y):\n",
    "    return -x + 3 * y\n",
    "    \n",
    "def check_x(N, a=0, b=1):\n",
    "    return [4 * np.exp(-t) - np.exp(2 * t) for t in np.linspace(a, b, N + 1)]\n",
    "\n",
    "def check_y(N, a=0, b=1):\n",
    "    return [np.exp(-t) - np.exp(2 * t) for t in np.linspace(a, b, N+1)]"
   ]
  },
  {
   "cell_type": "markdown",
   "metadata": {},
   "source": [
    "Метод Рунге-Кутты четвёртого порядка:"
   ]
  },
  {
   "cell_type": "code",
   "execution_count": 27,
   "metadata": {},
   "outputs": [],
   "source": [
    "def rk4(N, a=0, b=1, x0=3, y0=0):\n",
    "    h = (b - a) / N\n",
    "    x = np.zeros(N + 1)\n",
    "    x[0] = x0\n",
    "    y = np.zeros(N + 1)\n",
    "    y[0] = y0\n",
    "\n",
    "    for i in range(1, N + 1):\n",
    "        kx0 = dx_dt(x[i - 1], y[i - 1])\n",
    "        ky0 = dy_dt(x[i - 1], y[i - 1])\n",
    "        kx1 = dx_dt(x[i - 1] + kx0 * h / 2, y[i - 1] + ky0 * h / 2)\n",
    "        ky1 = dy_dt(x[i - 1] + kx0 * h / 2, y[i - 1] + ky0 * h / 2)\n",
    "        kx2 = dx_dt(x[i - 1] + kx1 * h / 2, y[i - 1] + ky1 * h / 2)\n",
    "        ky2 = dy_dt(x[i - 1] + kx1 * h / 2, y[i - 1] + ky1 * h/ 2)\n",
    "        kx3 = dx_dt(x[i - 1] + kx2 * h, y[i - 1] + h * ky2)\n",
    "        ky3 = dy_dt(x[i - 1] + kx2 * h, y[i - 1] + h * ky2)\n",
    "        x[i] = x[i - 1] + h / 6 * (kx0 + 2 * kx1 + 2 * kx2 + kx3)\n",
    "        y[i] = y[i - 1] + h / 6 * (ky0 + 2 * ky1 + 2 * ky2 + ky3)\n",
    "\n",
    "    return x, y"
   ]
  },
  {
   "cell_type": "markdown",
   "metadata": {},
   "source": [
    "Cхема Адамса–Бэшфорта–Моултона требует работы с несколькими базовыми точками - мы их найдём с помощью метода Рунге-Кутты:"
   ]
  },
  {
   "cell_type": "code",
   "execution_count": 28,
   "metadata": {},
   "outputs": [],
   "source": [
    "def ABM(N, a=0, b=1, x0=3, y0=0):\n",
    "    h = (b - a) / N\n",
    "    x = np.zeros(N + 1)\n",
    "    y = np.zeros(N + 1)\n",
    "    RKX, RKY = rk4(3, a, h*3)\n",
    "\n",
    "    for i in range(0, 4):\n",
    "        x[i], y[i] = RKX[i], RKY[i]\n",
    "    for i in range(3, N):\n",
    "        bx = x[i] + h/24 * (55 * dx_dt(x[i], y[i]) - 59 * dx_dt(x[i-1], y[i-1]) + 37 * dx_dt(x[i-2], y[i-2]) - 9 * dx_dt(x[i-3], y[i-3]))\n",
    "        by = y[i] + h/24 * (55 * dy_dt(x[i], y[i]) - 59 * dy_dt(x[i-1], y[i-1]) + 37 * dy_dt(x[i-2], y[i-2]) - 9 * dy_dt(x[i-3], y[i-3]))\n",
    "        x[i+1] = x[i] + h/24 * (9 * dx_dt(bx, by) + 19 * dx_dt(x[i], y[i]) - 5 * dx_dt(x[i-1], y[i-1]) + dx_dt(x[i-2], y[i-2]))\n",
    "        y[i+1] = y[i] + h/24 * (9 * dy_dt(bx, by) + 19 * dy_dt(x[i], y[i]) - 5 * dy_dt(x[i-1], y[i-1]) + dy_dt(x[i-2], y[i-2]))\n",
    "        \n",
    "    return x, y"
   ]
  },
  {
   "cell_type": "markdown",
   "metadata": {},
   "source": [
    "Создадим таблицу для проверки качества метода:"
   ]
  },
  {
   "cell_type": "code",
   "execution_count": 29,
   "metadata": {},
   "outputs": [
    {
     "data": {
      "text/html": [
       "<div>\n",
       "<style scoped>\n",
       "    .dataframe tbody tr th:only-of-type {\n",
       "        vertical-align: middle;\n",
       "    }\n",
       "\n",
       "    .dataframe tbody tr th {\n",
       "        vertical-align: top;\n",
       "    }\n",
       "\n",
       "    .dataframe thead th {\n",
       "        text-align: right;\n",
       "    }\n",
       "</style>\n",
       "<table border=\"1\" class=\"dataframe\">\n",
       "  <thead>\n",
       "    <tr style=\"text-align: right;\">\n",
       "      <th></th>\n",
       "      <th>eps_rk</th>\n",
       "      <th>P_rk</th>\n",
       "      <th>eps_ABM</th>\n",
       "      <th>P_ABM</th>\n",
       "    </tr>\n",
       "  </thead>\n",
       "  <tbody>\n",
       "    <tr>\n",
       "      <th>4</th>\n",
       "      <td>5.144808e-03</td>\n",
       "      <td>3.706307</td>\n",
       "      <td>6.207307e-03</td>\n",
       "      <td>5.243563</td>\n",
       "    </tr>\n",
       "    <tr>\n",
       "      <th>8</th>\n",
       "      <td>3.941484e-04</td>\n",
       "      <td>3.852127</td>\n",
       "      <td>1.638451e-04</td>\n",
       "      <td>2.724273</td>\n",
       "    </tr>\n",
       "    <tr>\n",
       "      <th>16</th>\n",
       "      <td>2.729316e-05</td>\n",
       "      <td>3.925809</td>\n",
       "      <td>2.479393e-05</td>\n",
       "      <td>2.863576</td>\n",
       "    </tr>\n",
       "    <tr>\n",
       "      <th>32</th>\n",
       "      <td>1.795840e-06</td>\n",
       "      <td>3.962841</td>\n",
       "      <td>3.406616e-06</td>\n",
       "      <td>3.568288</td>\n",
       "    </tr>\n",
       "    <tr>\n",
       "      <th>64</th>\n",
       "      <td>1.151685e-07</td>\n",
       "      <td>3.981405</td>\n",
       "      <td>2.871847e-07</td>\n",
       "      <td>3.803852</td>\n",
       "    </tr>\n",
       "    <tr>\n",
       "      <th>128</th>\n",
       "      <td>7.291408e-09</td>\n",
       "      <td>3.990696</td>\n",
       "      <td>2.056306e-08</td>\n",
       "      <td>3.905911</td>\n",
       "    </tr>\n",
       "    <tr>\n",
       "      <th>256</th>\n",
       "      <td>4.586616e-10</td>\n",
       "      <td>3.995512</td>\n",
       "      <td>1.371801e-09</td>\n",
       "      <td>3.953934</td>\n",
       "    </tr>\n",
       "  </tbody>\n",
       "</table>\n",
       "</div>"
      ],
      "text/plain": [
       "           eps_rk      P_rk       eps_ABM     P_ABM\n",
       "4    5.144808e-03  3.706307  6.207307e-03  5.243563\n",
       "8    3.941484e-04  3.852127  1.638451e-04  2.724273\n",
       "16   2.729316e-05  3.925809  2.479393e-05  2.863576\n",
       "32   1.795840e-06  3.962841  3.406616e-06  3.568288\n",
       "64   1.151685e-07  3.981405  2.871847e-07  3.803852\n",
       "128  7.291408e-09  3.990696  2.056306e-08  3.905911\n",
       "256  4.586616e-10  3.995512  1.371801e-09  3.953934"
      ]
     },
     "execution_count": 29,
     "metadata": {},
     "output_type": "execute_result"
    }
   ],
   "source": [
    "data = pd.DataFrame(np.array([\n",
    "                            [max( abs(rk4(i)[0][-1] - check_x(i)[-1]), \n",
    "                                  abs(rk4(i)[1][-1] - check_y(i)[-1]) ) for i in [2 ** j for j in range(2, 9)]],\n",
    "                            [np.log2(\n",
    "                             max( abs(rk4(i)[0][-1] - check_x(i)[-1]), \n",
    "                                  abs(rk4(i)[1][-1] - check_y(i)[-1]) ) /\n",
    "                             max( abs(rk4(i * 2)[0][-1] - check_x(i * 2)[-1]), \n",
    "                                  abs(rk4(i * 2)[1][-1] - check_y(i * 2)[-1]) )\n",
    "                                ) for i in [2 ** j for j in range(2, 9)]], \n",
    "                                \n",
    "                            [max(abs(ABM(i)[0][-1] - check_x(i)[-1]), \n",
    "                                 abs(ABM(i)[1][-1] - check_y(i)[-1])) for i in [2 ** j for j in range(2, 9)]], \n",
    "                            [np.log2(\n",
    "                             max( abs(ABM(i)[0][-1] - check_x(i)[-1]), \n",
    "                                  abs(ABM(i)[1][-1] - check_y(i)[-1])) / \n",
    "                             max( abs(ABM(i * 2)[0][-1] - check_x(i * 2)[-1]), \n",
    "                                  abs(ABM(i * 2)[1][-1] - check_y(i * 2)[-1]) )\n",
    "                                ) for i in [2 ** j for j in range(2, 9)]]]).T, \n",
    "                    columns=['eps_rk', 'P_rk', 'eps_ABM', 'P_ABM'], \n",
    "                    index=[2 ** i for i in range(2, 9)])\n",
    "data"
   ]
  }
 ],
 "metadata": {
  "kernelspec": {
   "display_name": "Python 3.10.2 64-bit",
   "language": "python",
   "name": "python3"
  },
  "language_info": {
   "codemirror_mode": {
    "name": "ipython",
    "version": 3
   },
   "file_extension": ".py",
   "mimetype": "text/x-python",
   "name": "python",
   "nbconvert_exporter": "python",
   "pygments_lexer": "ipython3",
   "version": "3.10.2"
  },
  "orig_nbformat": 4,
  "vscode": {
   "interpreter": {
    "hash": "aee8b7b246df8f9039afb4144a1f6fd8d2ca17a180786b69acc140d282b71a49"
   }
  }
 },
 "nbformat": 4,
 "nbformat_minor": 2
}
