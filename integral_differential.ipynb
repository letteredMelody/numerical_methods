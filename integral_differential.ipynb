{
 "cells": [
  {
   "cell_type": "markdown",
   "metadata": {},
   "source": [
    "#### **Взять интеграл с заданной точностью eps:**"
   ]
  },
  {
   "cell_type": "code",
   "execution_count": 138,
   "metadata": {},
   "outputs": [],
   "source": [
    "import numpy as np\n",
    "import pandas as pd\n",
    "from random import random"
   ]
  },
  {
   "cell_type": "markdown",
   "metadata": {},
   "source": [
    "Запишем условие:"
   ]
  },
  {
   "cell_type": "code",
   "execution_count": 139,
   "metadata": {},
   "outputs": [],
   "source": [
    "def f(x):\n",
    "    return np.cos(x)/(x + 2)"
   ]
  },
  {
   "cell_type": "markdown",
   "metadata": {},
   "source": [
    "Метод трапеций:"
   ]
  },
  {
   "cell_type": "code",
   "execution_count": 140,
   "metadata": {},
   "outputs": [],
   "source": [
    "def trapezoid(n, f=f, a=0.4, b=1.2):\n",
    "    h = (b - a) / n\n",
    "    return sum([h * (f(i) + f(i + h)) / 2 for i in np.arange(a, b, h)])"
   ]
  },
  {
   "cell_type": "markdown",
   "metadata": {},
   "source": [
    "Используя метод Симпсона, заменим подынтегральную функцию параболой:"
   ]
  },
  {
   "cell_type": "code",
   "execution_count": 141,
   "metadata": {},
   "outputs": [],
   "source": [
    "def simpsons_method(N, a=0.4, b=1.2):\n",
    "    h = (b - a) / N\n",
    "    return sum([h / 6 * (f(i - h / 2) + 4 * f(i) + f(i + h / 2)) for i in np.arange(a + h / 2, b - h / 2 + 1e-5, h)])\n"
   ]
  },
  {
   "cell_type": "markdown",
   "metadata": {},
   "source": [
    "Создадим таблицу для проверки сходимости:"
   ]
  },
  {
   "cell_type": "code",
   "execution_count": 142,
   "metadata": {},
   "outputs": [
    {
     "data": {
      "text/html": [
       "<div>\n",
       "<style scoped>\n",
       "    .dataframe tbody tr th:only-of-type {\n",
       "        vertical-align: middle;\n",
       "    }\n",
       "\n",
       "    .dataframe tbody tr th {\n",
       "        vertical-align: top;\n",
       "    }\n",
       "\n",
       "    .dataframe thead th {\n",
       "        text-align: right;\n",
       "    }\n",
       "</style>\n",
       "<table border=\"1\" class=\"dataframe\">\n",
       "  <thead>\n",
       "    <tr style=\"text-align: right;\">\n",
       "      <th></th>\n",
       "      <th>eps_tr</th>\n",
       "      <th>P_tr</th>\n",
       "      <th>eps_simp</th>\n",
       "      <th>P_simp</th>\n",
       "    </tr>\n",
       "  </thead>\n",
       "  <tbody>\n",
       "    <tr>\n",
       "      <th>2</th>\n",
       "      <td>4.152252e-05</td>\n",
       "      <td>-1.916013</td>\n",
       "      <td>8.296630e-07</td>\n",
       "      <td>-3.991385</td>\n",
       "    </tr>\n",
       "    <tr>\n",
       "      <th>4</th>\n",
       "      <td>1.100288e-05</td>\n",
       "      <td>-1.979625</td>\n",
       "      <td>5.216450e-08</td>\n",
       "      <td>-3.997766</td>\n",
       "    </tr>\n",
       "    <tr>\n",
       "      <th>8</th>\n",
       "      <td>2.789843e-06</td>\n",
       "      <td>-1.994943</td>\n",
       "      <td>3.265334e-09</td>\n",
       "      <td>-3.999437</td>\n",
       "    </tr>\n",
       "    <tr>\n",
       "      <th>16</th>\n",
       "      <td>6.999097e-07</td>\n",
       "      <td>-1.998738</td>\n",
       "      <td>2.041630e-10</td>\n",
       "      <td>-3.999850</td>\n",
       "    </tr>\n",
       "    <tr>\n",
       "      <th>32</th>\n",
       "      <td>1.751305e-07</td>\n",
       "      <td>-1.999685</td>\n",
       "      <td>1.276151e-11</td>\n",
       "      <td>-3.999115</td>\n",
       "    </tr>\n",
       "    <tr>\n",
       "      <th>64</th>\n",
       "      <td>4.379221e-08</td>\n",
       "      <td>-1.999921</td>\n",
       "      <td>7.980838e-13</td>\n",
       "      <td>-4.000903</td>\n",
       "    </tr>\n",
       "  </tbody>\n",
       "</table>\n",
       "</div>"
      ],
      "text/plain": [
       "          eps_tr      P_tr      eps_simp    P_simp\n",
       "2   4.152252e-05 -1.916013  8.296630e-07 -3.991385\n",
       "4   1.100288e-05 -1.979625  5.216450e-08 -3.997766\n",
       "8   2.789843e-06 -1.994943  3.265334e-09 -3.999437\n",
       "16  6.999097e-07 -1.998738  2.041630e-10 -3.999850\n",
       "32  1.751305e-07 -1.999685  1.276151e-11 -3.999115\n",
       "64  4.379221e-08 -1.999921  7.980838e-13 -4.000903"
      ]
     },
     "execution_count": 142,
     "metadata": {},
     "output_type": "execute_result"
    }
   ],
   "source": [
    "data = pd.DataFrame(np.array([[abs(trapezoid(i) - trapezoid(i * 2)) for i in [2 ** j for j in range(1, 7)]],\n",
    "                            [np.log2(abs(trapezoid(i * 2) - trapezoid(i * 4)) / abs(trapezoid(i) - trapezoid(i * 2))) for i in [2 ** j for j in range(1, 7)]], \n",
    "                            [abs(simpsons_method(i) - simpsons_method(i * 2)) for i in [2 ** j for j in range(1, 7)]], \n",
    "                            [np.log2(abs(simpsons_method(i * 2) - simpsons_method(i * 4)) / abs(simpsons_method(i) - simpsons_method(i * 2))) for i in [2 ** j for j in range(1, 7)]]]).T, \n",
    "                    columns=['eps_tr', 'P_tr', 'eps_simp', 'P_simp'], \n",
    "                    index=[2 ** i for i in range(1, 7)])\n",
    "data"
   ]
  },
  {
   "cell_type": "markdown",
   "metadata": {},
   "source": [
    "ЧТО БУДЕТ, ЕСЛИ В ДАННЫЕ ВНЕСТИ ШУМ?"
   ]
  },
  {
   "cell_type": "code",
   "execution_count": 143,
   "metadata": {},
   "outputs": [],
   "source": [
    "def trapezoid_noize(n, f=f, a=0.4, b=1.2):\n",
    "    h = (b - a) / n\n",
    "    return sum([h * (f(i) + f(i + h)) / 2 + random() for i in np.arange(a, b, h)])\n",
    "\n",
    "def f_i_noize(i, N, f=f, a=0.4, b=1.2):\n",
    "    return f(a + ((b - a) * i)/(2 * N))\n",
    "\n",
    "def simpsons_method_noize(N, a=0.4, b=1.2, f_i=f_i_noize):\n",
    "    return ((b - a)/(6 * N)) * (f_i(0, N) + 4 * sum([f_i(i, N) + random() for i in range(1, 2 * N + 1)]) + 2 * sum([f_i(i, N) + random() for i in range(2, 2 * N + 2, 2)]) + f_i(2 * N, N))"
   ]
  },
  {
   "cell_type": "markdown",
   "metadata": {},
   "source": [
    "Посмотрим на сходимость теперь:"
   ]
  },
  {
   "cell_type": "code",
   "execution_count": 144,
   "metadata": {},
   "outputs": [
    {
     "data": {
      "text/html": [
       "<div>\n",
       "<style scoped>\n",
       "    .dataframe tbody tr th:only-of-type {\n",
       "        vertical-align: middle;\n",
       "    }\n",
       "\n",
       "    .dataframe tbody tr th {\n",
       "        vertical-align: top;\n",
       "    }\n",
       "\n",
       "    .dataframe thead th {\n",
       "        text-align: right;\n",
       "    }\n",
       "</style>\n",
       "<table border=\"1\" class=\"dataframe\">\n",
       "  <thead>\n",
       "    <tr style=\"text-align: right;\">\n",
       "      <th></th>\n",
       "      <th>eps_tr</th>\n",
       "      <th>P_tr</th>\n",
       "      <th>eps_simp</th>\n",
       "      <th>P_simp</th>\n",
       "    </tr>\n",
       "  </thead>\n",
       "  <tbody>\n",
       "    <tr>\n",
       "      <th>2</th>\n",
       "      <td>0.688019</td>\n",
       "      <td>1.270801</td>\n",
       "      <td>0.248547</td>\n",
       "      <td>-1.065511</td>\n",
       "    </tr>\n",
       "    <tr>\n",
       "      <th>4</th>\n",
       "      <td>0.845011</td>\n",
       "      <td>0.823436</td>\n",
       "      <td>0.040367</td>\n",
       "      <td>-0.189967</td>\n",
       "    </tr>\n",
       "    <tr>\n",
       "      <th>8</th>\n",
       "      <td>4.517143</td>\n",
       "      <td>2.804418</td>\n",
       "      <td>0.027146</td>\n",
       "      <td>-3.400108</td>\n",
       "    </tr>\n",
       "    <tr>\n",
       "      <th>16</th>\n",
       "      <td>6.528353</td>\n",
       "      <td>1.013322</td>\n",
       "      <td>0.046431</td>\n",
       "      <td>0.838998</td>\n",
       "    </tr>\n",
       "    <tr>\n",
       "      <th>32</th>\n",
       "      <td>13.781177</td>\n",
       "      <td>0.740351</td>\n",
       "      <td>0.021041</td>\n",
       "      <td>-0.596632</td>\n",
       "    </tr>\n",
       "    <tr>\n",
       "      <th>64</th>\n",
       "      <td>33.793368</td>\n",
       "      <td>1.224944</td>\n",
       "      <td>0.004663</td>\n",
       "      <td>-0.659913</td>\n",
       "    </tr>\n",
       "  </tbody>\n",
       "</table>\n",
       "</div>"
      ],
      "text/plain": [
       "       eps_tr      P_tr  eps_simp    P_simp\n",
       "2    0.688019  1.270801  0.248547 -1.065511\n",
       "4    0.845011  0.823436  0.040367 -0.189967\n",
       "8    4.517143  2.804418  0.027146 -3.400108\n",
       "16   6.528353  1.013322  0.046431  0.838998\n",
       "32  13.781177  0.740351  0.021041 -0.596632\n",
       "64  33.793368  1.224944  0.004663 -0.659913"
      ]
     },
     "execution_count": 144,
     "metadata": {},
     "output_type": "execute_result"
    }
   ],
   "source": [
    "data = pd.DataFrame(np.array([[abs(trapezoid_noize(i) - trapezoid_noize(i * 2)) for i in [2 ** j for j in range(1, 7)]],\n",
    "                            [np.log2(abs(trapezoid_noize(i * 2) - trapezoid_noize(i * 4)) / abs(trapezoid_noize(i) - trapezoid_noize(i * 2))) for i in [2 ** j for j in range(1, 7)]], \n",
    "                            [abs(simpsons_method_noize(i) - simpsons_method_noize(i * 2)) for i in [2 ** j for j in range(1, 7)]], \n",
    "                            [np.log2(abs(simpsons_method_noize(i * 2) - simpsons_method_noize(i * 4)) / abs(simpsons_method_noize(i) - simpsons_method_noize(i * 2))) for i in [2 ** j for j in range(1, 7)]]]).T, \n",
    "                    columns=['eps_tr', 'P_tr', 'eps_simp', 'P_simp'], \n",
    "                    index=[2 ** i for i in range(1, 7)])\n",
    "data"
   ]
  },
  {
   "cell_type": "markdown",
   "metadata": {},
   "source": [
    "#### **Вычислить производную:**"
   ]
  },
  {
   "cell_type": "code",
   "execution_count": 145,
   "metadata": {},
   "outputs": [],
   "source": [
    "def f(x):\n",
    "    return np.exp(x)"
   ]
  },
  {
   "cell_type": "markdown",
   "metadata": {},
   "source": [
    "Найдём с помощью правосторонней и двусторонней разностей:"
   ]
  },
  {
   "cell_type": "code",
   "execution_count": 146,
   "metadata": {},
   "outputs": [],
   "source": [
    "def right(N, x=1):\n",
    "    h = 10 ** -N\n",
    "    return (f(x + h) - f(x)) / h\n",
    "\n",
    "def bilateral(N, x=1):\n",
    "    h = 10 ** -N\n",
    "    return (f(x + h) - f(x - h)) / (2 * h)"
   ]
  },
  {
   "cell_type": "markdown",
   "metadata": {},
   "source": [
    "Сравним результаты работы методов с оригинальным числом e, который является значением производной при x = 1:"
   ]
  },
  {
   "cell_type": "code",
   "execution_count": 147,
   "metadata": {},
   "outputs": [
    {
     "name": "stdout",
     "output_type": "stream",
     "text": [
      "2.7182954199567173\n",
      "2.718281828517632\n",
      "2.718281828459045\n"
     ]
    }
   ],
   "source": [
    "print(right(5))\n",
    "print(bilateral(5))\n",
    "print(np.e)"
   ]
  },
  {
   "cell_type": "markdown",
   "metadata": {},
   "source": [
    "Сразу видим, что двусторонний метод работает лучше.\n",
    "\n",
    "Создадим таблицу для проверки сходимости:"
   ]
  },
  {
   "cell_type": "code",
   "execution_count": 152,
   "metadata": {},
   "outputs": [
    {
     "data": {
      "text/html": [
       "<div>\n",
       "<style scoped>\n",
       "    .dataframe tbody tr th:only-of-type {\n",
       "        vertical-align: middle;\n",
       "    }\n",
       "\n",
       "    .dataframe tbody tr th {\n",
       "        vertical-align: top;\n",
       "    }\n",
       "\n",
       "    .dataframe thead th {\n",
       "        text-align: right;\n",
       "    }\n",
       "</style>\n",
       "<table border=\"1\" class=\"dataframe\">\n",
       "  <thead>\n",
       "    <tr style=\"text-align: right;\">\n",
       "      <th></th>\n",
       "      <th>eps_r</th>\n",
       "      <th>P_r</th>\n",
       "      <th>eps_bi</th>\n",
       "      <th>P_bi</th>\n",
       "    </tr>\n",
       "  </thead>\n",
       "  <tbody>\n",
       "    <tr>\n",
       "      <th>1</th>\n",
       "      <td>0.126923</td>\n",
       "      <td>-3.369900</td>\n",
       "      <td>4.487431e-03</td>\n",
       "      <td>-6.644577</td>\n",
       "    </tr>\n",
       "    <tr>\n",
       "      <th>2</th>\n",
       "      <td>0.012277</td>\n",
       "      <td>-3.326693</td>\n",
       "      <td>4.485188e-05</td>\n",
       "      <td>-6.643865</td>\n",
       "    </tr>\n",
       "    <tr>\n",
       "      <th>3</th>\n",
       "      <td>0.001224</td>\n",
       "      <td>-3.322405</td>\n",
       "      <td>4.485161e-07</td>\n",
       "      <td>-6.648103</td>\n",
       "    </tr>\n",
       "  </tbody>\n",
       "</table>\n",
       "</div>"
      ],
      "text/plain": [
       "      eps_r       P_r        eps_bi      P_bi\n",
       "1  0.126923 -3.369900  4.487431e-03 -6.644577\n",
       "2  0.012277 -3.326693  4.485188e-05 -6.643865\n",
       "3  0.001224 -3.322405  4.485161e-07 -6.648103"
      ]
     },
     "execution_count": 152,
     "metadata": {},
     "output_type": "execute_result"
    }
   ],
   "source": [
    "data = pd.DataFrame(np.array([[abs(right(i) - right(i + 1)) for i in [j for j in range(1, 4)]],\n",
    "                            [np.log2(abs(right(i + 1) - right(i + 2)) / abs(right(i) - right(i + 1))) for i in [j for j in range(1, 4)]], \n",
    "                            [abs(bilateral(i) - bilateral(i + 1)) for i in [j for j in range(1, 4)]], \n",
    "                            [np.log2(abs(bilateral(i + 1) - bilateral(i + 2)) / abs(bilateral(i) - bilateral(i + 1))) for i in [j for j in range(1, 4)]]]).T, \n",
    "                    columns=['eps_r', 'P_r', 'eps_bi', 'P_bi'], \n",
    "                    index=[i for i in range(1, 4)])\n",
    "data"
   ]
  },
  {
   "cell_type": "markdown",
   "metadata": {},
   "source": [
    "Как можно увидеть, при N->+inf и, соответственно, при h->0, погрешность eps->0."
   ]
  },
  {
   "cell_type": "markdown",
   "metadata": {},
   "source": [
    "ЧТО БУДЕТ, ЕСЛИ В ДАННЫЕ ВНЕСТИ ШУМ?"
   ]
  },
  {
   "cell_type": "code",
   "execution_count": 149,
   "metadata": {},
   "outputs": [],
   "source": [
    "def right_noize(N, x=1):\n",
    "    h = 10 ** -N\n",
    "    return (f(x + random()) - f(x - h + random())) / h\n",
    "\n",
    "def bilateral_noize(N, x=1):\n",
    "    h = 10 ** -N\n",
    "    return (f(x + h + random()) - f(x - h + random())) / (2 * h)"
   ]
  },
  {
   "cell_type": "markdown",
   "metadata": {},
   "source": [
    "Посмотрим на сходимость теперь:"
   ]
  },
  {
   "cell_type": "code",
   "execution_count": 150,
   "metadata": {},
   "outputs": [
    {
     "data": {
      "text/html": [
       "<div>\n",
       "<style scoped>\n",
       "    .dataframe tbody tr th:only-of-type {\n",
       "        vertical-align: middle;\n",
       "    }\n",
       "\n",
       "    .dataframe tbody tr th {\n",
       "        vertical-align: top;\n",
       "    }\n",
       "\n",
       "    .dataframe thead th {\n",
       "        text-align: right;\n",
       "    }\n",
       "</style>\n",
       "<table border=\"1\" class=\"dataframe\">\n",
       "  <thead>\n",
       "    <tr style=\"text-align: right;\">\n",
       "      <th></th>\n",
       "      <th>eps_r</th>\n",
       "      <th>P_r</th>\n",
       "      <th>eps_bi</th>\n",
       "      <th>P_bi</th>\n",
       "    </tr>\n",
       "  </thead>\n",
       "  <tbody>\n",
       "    <tr>\n",
       "      <th>1</th>\n",
       "      <td>251.836835</td>\n",
       "      <td>3.221902</td>\n",
       "      <td>77.606497</td>\n",
       "      <td>3.708962</td>\n",
       "    </tr>\n",
       "    <tr>\n",
       "      <th>2</th>\n",
       "      <td>2214.138754</td>\n",
       "      <td>2.701299</td>\n",
       "      <td>1015.263585</td>\n",
       "      <td>2.979945</td>\n",
       "    </tr>\n",
       "    <tr>\n",
       "      <th>3</th>\n",
       "      <td>19786.732595</td>\n",
       "      <td>0.284169</td>\n",
       "      <td>5805.866766</td>\n",
       "      <td>6.010632</td>\n",
       "    </tr>\n",
       "    <tr>\n",
       "      <th>4</th>\n",
       "      <td>442145.776241</td>\n",
       "      <td>5.416849</td>\n",
       "      <td>22598.197413</td>\n",
       "      <td>1.103789</td>\n",
       "    </tr>\n",
       "  </tbody>\n",
       "</table>\n",
       "</div>"
      ],
      "text/plain": [
       "           eps_r       P_r        eps_bi      P_bi\n",
       "1     251.836835  3.221902     77.606497  3.708962\n",
       "2    2214.138754  2.701299   1015.263585  2.979945\n",
       "3   19786.732595  0.284169   5805.866766  6.010632\n",
       "4  442145.776241  5.416849  22598.197413  1.103789"
      ]
     },
     "execution_count": 150,
     "metadata": {},
     "output_type": "execute_result"
    }
   ],
   "source": [
    "data = pd.DataFrame(np.array([[abs(right_noize(i) - right_noize(i + 1)) for i in [2 ** j for j in range(1, 5)]],\n",
    "                            [np.log2(abs(right_noize(i + 1) - right_noize(i + 2)) / abs(right_noize(i) - right_noize(i + 1))) for i in [2 ** j for j in range(1, 5)]], \n",
    "                            [abs(bilateral_noize(i) - bilateral_noize(i + 1)) for i in [2 ** j for j in range(1, 5)]], \n",
    "                            [np.log2(abs(bilateral_noize(i + 1) - bilateral_noize(i + 2)) / abs(bilateral_noize(i) - bilateral_noize(i + 1))) for i in [j for j in range(1, 5)]]]).T, \n",
    "                    columns=['eps_r', 'P_r', 'eps_bi', 'P_bi'], \n",
    "                    index=[i for i in range(1, 5)])\n",
    "data"
   ]
  },
  {
   "cell_type": "markdown",
   "metadata": {},
   "source": [
    "Значения расходятся."
   ]
  }
 ],
 "metadata": {
  "kernelspec": {
   "display_name": "Python 3.10.2 64-bit",
   "language": "python",
   "name": "python3"
  },
  "language_info": {
   "codemirror_mode": {
    "name": "ipython",
    "version": 3
   },
   "file_extension": ".py",
   "mimetype": "text/x-python",
   "name": "python",
   "nbconvert_exporter": "python",
   "pygments_lexer": "ipython3",
   "version": "3.10.2"
  },
  "orig_nbformat": 4,
  "vscode": {
   "interpreter": {
    "hash": "aee8b7b246df8f9039afb4144a1f6fd8d2ca17a180786b69acc140d282b71a49"
   }
  }
 },
 "nbformat": 4,
 "nbformat_minor": 2
}
