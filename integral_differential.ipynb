{
 "cells": [
  {
   "cell_type": "markdown",
   "metadata": {},
   "source": [
    "#### **Взять интеграл с заданной точностью eps:**"
   ]
  },
  {
   "cell_type": "code",
   "execution_count": 69,
   "metadata": {},
   "outputs": [],
   "source": [
    "import numpy as np\n",
    "import pandas as pd\n",
    "from random import random"
   ]
  },
  {
   "cell_type": "markdown",
   "metadata": {},
   "source": [
    "Запишем условие:"
   ]
  },
  {
   "cell_type": "code",
   "execution_count": 70,
   "metadata": {},
   "outputs": [],
   "source": [
    "def f(x):\n",
    "    return np.cos(x)/(x + 2)"
   ]
  },
  {
   "cell_type": "markdown",
   "metadata": {},
   "source": [
    "Метод трапеций:"
   ]
  },
  {
   "cell_type": "code",
   "execution_count": 71,
   "metadata": {},
   "outputs": [],
   "source": [
    "def trapezoid(n, f=f, a=0.4, b=1.2):\n",
    "    h = (b - a) / n\n",
    "    return sum([h * (f(i) + f(i + h)) / 2 for i in np.arange(a, b - h, h)])"
   ]
  },
  {
   "cell_type": "markdown",
   "metadata": {},
   "source": [
    "Используя метод Симпсона, заменим подынтегральную функцию параболой:"
   ]
  },
  {
   "cell_type": "code",
   "execution_count": 72,
   "metadata": {},
   "outputs": [],
   "source": [
    "def simpsons_method(N, a=0.4, b=1.2):\n",
    "    h = (b - a) / N\n",
    "    return sum([h / 6 * (f(i - h / 2) + 4 * f(i) + f(i + h / 2)) for i in np.arange(a + h / 2, b - h / 2, h)])\n"
   ]
  },
  {
   "cell_type": "markdown",
   "metadata": {},
   "source": [
    "Создадим таблицу для проверки сходимости:"
   ]
  },
  {
   "cell_type": "code",
   "execution_count": 73,
   "metadata": {},
   "outputs": [
    {
     "data": {
      "text/html": [
       "<div>\n",
       "<style scoped>\n",
       "    .dataframe tbody tr th:only-of-type {\n",
       "        vertical-align: middle;\n",
       "    }\n",
       "\n",
       "    .dataframe tbody tr th {\n",
       "        vertical-align: top;\n",
       "    }\n",
       "\n",
       "    .dataframe thead th {\n",
       "        text-align: right;\n",
       "    }\n",
       "</style>\n",
       "<table border=\"1\" class=\"dataframe\">\n",
       "  <thead>\n",
       "    <tr style=\"text-align: right;\">\n",
       "      <th></th>\n",
       "      <th>eps_tr</th>\n",
       "      <th>P_tr</th>\n",
       "      <th>eps_simp</th>\n",
       "      <th>P_simp</th>\n",
       "    </tr>\n",
       "  </thead>\n",
       "  <tbody>\n",
       "    <tr>\n",
       "      <th>2</th>\n",
       "      <td>0.029292</td>\n",
       "      <td>-0.839741</td>\n",
       "      <td>0.029287</td>\n",
       "      <td>-0.843929</td>\n",
       "    </tr>\n",
       "    <tr>\n",
       "      <th>4</th>\n",
       "      <td>0.016367</td>\n",
       "      <td>-1.244476</td>\n",
       "      <td>0.016316</td>\n",
       "      <td>-0.330999</td>\n",
       "    </tr>\n",
       "    <tr>\n",
       "      <th>8</th>\n",
       "      <td>0.006908</td>\n",
       "      <td>-0.185681</td>\n",
       "      <td>0.012971</td>\n",
       "      <td>-2.144750</td>\n",
       "    </tr>\n",
       "    <tr>\n",
       "      <th>16</th>\n",
       "      <td>0.006074</td>\n",
       "      <td>-2.075630</td>\n",
       "      <td>0.002933</td>\n",
       "      <td>-0.975028</td>\n",
       "    </tr>\n",
       "    <tr>\n",
       "      <th>32</th>\n",
       "      <td>0.001441</td>\n",
       "      <td>-0.986987</td>\n",
       "      <td>0.001492</td>\n",
       "      <td>-1.037643</td>\n",
       "    </tr>\n",
       "    <tr>\n",
       "      <th>64</th>\n",
       "      <td>0.000727</td>\n",
       "      <td>-1.019220</td>\n",
       "      <td>0.000727</td>\n",
       "      <td>-0.025594</td>\n",
       "    </tr>\n",
       "    <tr>\n",
       "      <th>128</th>\n",
       "      <td>0.000359</td>\n",
       "      <td>-0.012939</td>\n",
       "      <td>0.000714</td>\n",
       "      <td>-2.009706</td>\n",
       "    </tr>\n",
       "    <tr>\n",
       "      <th>256</th>\n",
       "      <td>0.000355</td>\n",
       "      <td>-2.004888</td>\n",
       "      <td>0.000177</td>\n",
       "      <td>-0.998379</td>\n",
       "    </tr>\n",
       "  </tbody>\n",
       "</table>\n",
       "</div>"
      ],
      "text/plain": [
       "       eps_tr      P_tr  eps_simp    P_simp\n",
       "2    0.029292 -0.839741  0.029287 -0.843929\n",
       "4    0.016367 -1.244476  0.016316 -0.330999\n",
       "8    0.006908 -0.185681  0.012971 -2.144750\n",
       "16   0.006074 -2.075630  0.002933 -0.975028\n",
       "32   0.001441 -0.986987  0.001492 -1.037643\n",
       "64   0.000727 -1.019220  0.000727 -0.025594\n",
       "128  0.000359 -0.012939  0.000714 -2.009706\n",
       "256  0.000355 -2.004888  0.000177 -0.998379"
      ]
     },
     "execution_count": 73,
     "metadata": {},
     "output_type": "execute_result"
    }
   ],
   "source": [
    "data = pd.DataFrame(np.array([[abs(trapezoid(i) - trapezoid(i * 2)) for i in [2 ** j for j in range(1, 9)]],\n",
    "                            [np.log2(abs(trapezoid(i * 2) - trapezoid(i * 4)) / abs(trapezoid(i) - trapezoid(i * 2))) for i in [2 ** j for j in range(1, 9)]], \n",
    "                            [abs(simpsons_method(i) - simpsons_method(i * 2)) for i in [2 ** j for j in range(1, 9)]], \n",
    "                            [np.log2(abs(simpsons_method(i * 2) - simpsons_method(i * 4)) / abs(simpsons_method(i) - simpsons_method(i * 2))) for i in [2 ** j for j in range(1, 9)]]]).T, \n",
    "                    columns=['eps_tr', 'P_tr', 'eps_simp', 'P_simp'], \n",
    "                    index=[2 ** i for i in range(1, 9)])\n",
    "data"
   ]
  },
  {
   "cell_type": "markdown",
   "metadata": {},
   "source": [
    "ЧТО БУДЕТ, ЕСЛИ В ДАННЫЕ ВНЕСТИ ШУМ?"
   ]
  },
  {
   "cell_type": "code",
   "execution_count": 74,
   "metadata": {},
   "outputs": [],
   "source": [
    "def trapezoid_noize(n, f=f, a=0.4, b=1.2):\n",
    "    h = (b - a) / n\n",
    "    return sum([h * (f(i) + f(i + h)) / 2 + random() for i in np.arange(a, b - h, h)])\n",
    "\n",
    "def f_i_noize(i, N, f=f, a=0.4, b=1.2):\n",
    "    return f(a + ((b - a) * i)/(2 * N))\n",
    "\n",
    "def simpsons_method_noize(N, a=0.4, b=1.2, f_i=f_i_noize):\n",
    "    return ((b - a)/(6 * N)) * (f_i(0, N) + 4 * sum([f_i(i, N) + random() for i in range(1, 2 * N)]) + 2 * sum([f_i(i, N) + random() for i in range(2, 2 * N, 2)]) + f_i(2 * N, N))"
   ]
  },
  {
   "cell_type": "markdown",
   "metadata": {},
   "source": [
    "Посмотрим на сходимость теперь:"
   ]
  },
  {
   "cell_type": "code",
   "execution_count": 75,
   "metadata": {},
   "outputs": [
    {
     "data": {
      "text/html": [
       "<div>\n",
       "<style scoped>\n",
       "    .dataframe tbody tr th:only-of-type {\n",
       "        vertical-align: middle;\n",
       "    }\n",
       "\n",
       "    .dataframe tbody tr th {\n",
       "        vertical-align: top;\n",
       "    }\n",
       "\n",
       "    .dataframe thead th {\n",
       "        text-align: right;\n",
       "    }\n",
       "</style>\n",
       "<table border=\"1\" class=\"dataframe\">\n",
       "  <thead>\n",
       "    <tr style=\"text-align: right;\">\n",
       "      <th></th>\n",
       "      <th>eps_tr</th>\n",
       "      <th>P_tr</th>\n",
       "      <th>eps_simp</th>\n",
       "      <th>P_simp</th>\n",
       "    </tr>\n",
       "  </thead>\n",
       "  <tbody>\n",
       "    <tr>\n",
       "      <th>4</th>\n",
       "      <td>1.785254</td>\n",
       "      <td>2.112116</td>\n",
       "      <td>0.149484</td>\n",
       "      <td>-0.113416</td>\n",
       "    </tr>\n",
       "    <tr>\n",
       "      <th>8</th>\n",
       "      <td>4.857341</td>\n",
       "      <td>0.948886</td>\n",
       "      <td>0.075186</td>\n",
       "      <td>-1.247784</td>\n",
       "    </tr>\n",
       "    <tr>\n",
       "      <th>16</th>\n",
       "      <td>10.497556</td>\n",
       "      <td>0.920434</td>\n",
       "      <td>0.126235</td>\n",
       "      <td>-0.454258</td>\n",
       "    </tr>\n",
       "    <tr>\n",
       "      <th>32</th>\n",
       "      <td>12.529304</td>\n",
       "      <td>1.390669</td>\n",
       "      <td>0.009330</td>\n",
       "      <td>0.335923</td>\n",
       "    </tr>\n",
       "  </tbody>\n",
       "</table>\n",
       "</div>"
      ],
      "text/plain": [
       "       eps_tr      P_tr  eps_simp    P_simp\n",
       "4    1.785254  2.112116  0.149484 -0.113416\n",
       "8    4.857341  0.948886  0.075186 -1.247784\n",
       "16  10.497556  0.920434  0.126235 -0.454258\n",
       "32  12.529304  1.390669  0.009330  0.335923"
      ]
     },
     "execution_count": 75,
     "metadata": {},
     "output_type": "execute_result"
    }
   ],
   "source": [
    "data = pd.DataFrame(np.array([[abs(trapezoid_noize(i) - trapezoid_noize(i * 2)) for i in [2 ** j for j in range(2, 6)]],\n",
    "                            [np.log2(abs(trapezoid_noize(i * 2) - trapezoid_noize(i * 4)) / abs(trapezoid_noize(i) - trapezoid_noize(i * 2))) for i in [2 ** j for j in range(2, 6)]], \n",
    "                            [abs(simpsons_method_noize(i) - simpsons_method_noize(i * 2)) for i in [2 ** j for j in range(2, 6)]], \n",
    "                            [np.log2(abs(simpsons_method_noize(i * 2) - simpsons_method_noize(i * 4)) / abs(simpsons_method_noize(i) - simpsons_method_noize(i * 2))) for i in [2 ** j for j in range(2, 6)]]]).T, \n",
    "                    columns=['eps_tr', 'P_tr', 'eps_simp', 'P_simp'], \n",
    "                    index=[2 ** i for i in range(2, 6)])\n",
    "data"
   ]
  },
  {
   "cell_type": "markdown",
   "metadata": {},
   "source": [
    "Можем заметить, что метод Симпсона более устойчив к обработке шума."
   ]
  },
  {
   "cell_type": "markdown",
   "metadata": {},
   "source": [
    "#### **Вычислить производную:**"
   ]
  },
  {
   "cell_type": "code",
   "execution_count": 76,
   "metadata": {},
   "outputs": [],
   "source": [
    "def f(x):\n",
    "    return np.exp(x)"
   ]
  },
  {
   "cell_type": "markdown",
   "metadata": {},
   "source": [
    "Найдём с помощью правосторонней и двусторонней разностей:"
   ]
  },
  {
   "cell_type": "code",
   "execution_count": 77,
   "metadata": {},
   "outputs": [],
   "source": [
    "def right(N, x=1):\n",
    "    h = 10 ** -N\n",
    "    return (f(x) - f(x - h)) / h\n",
    "\n",
    "def bilateral(N, x=1):\n",
    "    h = 10 ** -N\n",
    "    return (f(x + h) - f(x - h)) / (2 * h)"
   ]
  },
  {
   "cell_type": "markdown",
   "metadata": {},
   "source": [
    "Сравним результаты работы методов с оригинальным числом e, который является значением производной при x = 1:"
   ]
  },
  {
   "cell_type": "code",
   "execution_count": 78,
   "metadata": {},
   "outputs": [
    {
     "name": "stdout",
     "output_type": "stream",
     "text": [
      "2.7182682370785467\n",
      "2.718281828517632\n",
      "2.718281828459045\n"
     ]
    }
   ],
   "source": [
    "print(right(5))\n",
    "print(bilateral(5))\n",
    "print(np.e)"
   ]
  },
  {
   "cell_type": "markdown",
   "metadata": {},
   "source": [
    "Сразу видим, что двусторонний метод работает лучше.\n",
    "\n",
    "Создадим таблицу для проверки сходимости:"
   ]
  },
  {
   "cell_type": "code",
   "execution_count": 79,
   "metadata": {},
   "outputs": [
    {
     "data": {
      "text/html": [
       "<div>\n",
       "<style scoped>\n",
       "    .dataframe tbody tr th:only-of-type {\n",
       "        vertical-align: middle;\n",
       "    }\n",
       "\n",
       "    .dataframe tbody tr th {\n",
       "        vertical-align: top;\n",
       "    }\n",
       "\n",
       "    .dataframe thead th {\n",
       "        text-align: right;\n",
       "    }\n",
       "</style>\n",
       "<table border=\"1\" class=\"dataframe\">\n",
       "  <thead>\n",
       "    <tr style=\"text-align: right;\">\n",
       "      <th></th>\n",
       "      <th>eps_r</th>\n",
       "      <th>P_r</th>\n",
       "      <th>eps_bi</th>\n",
       "      <th>P_bi</th>\n",
       "    </tr>\n",
       "  </thead>\n",
       "  <tbody>\n",
       "    <tr>\n",
       "      <th>1</th>\n",
       "      <td>0.117948</td>\n",
       "      <td>-3.136742</td>\n",
       "      <td>4.487431e-03</td>\n",
       "      <td>-6.630222</td>\n",
       "    </tr>\n",
       "    <tr>\n",
       "      <th>2</th>\n",
       "      <td>0.013410</td>\n",
       "      <td>-6.624622</td>\n",
       "      <td>4.530039e-05</td>\n",
       "      <td>-11.990424</td>\n",
       "    </tr>\n",
       "    <tr>\n",
       "      <th>3</th>\n",
       "      <td>0.001357</td>\n",
       "      <td>-7.025871</td>\n",
       "      <td>4.532101e-07</td>\n",
       "      <td>8.857846</td>\n",
       "    </tr>\n",
       "    <tr>\n",
       "      <th>4</th>\n",
       "      <td>0.000136</td>\n",
       "      <td>14.287831</td>\n",
       "      <td>1.113332e-08</td>\n",
       "      <td>27.863236</td>\n",
       "    </tr>\n",
       "  </tbody>\n",
       "</table>\n",
       "</div>"
      ],
      "text/plain": [
       "      eps_r        P_r        eps_bi       P_bi\n",
       "1  0.117948  -3.136742  4.487431e-03  -6.630222\n",
       "2  0.013410  -6.624622  4.530039e-05 -11.990424\n",
       "3  0.001357  -7.025871  4.532101e-07   8.857846\n",
       "4  0.000136  14.287831  1.113332e-08  27.863236"
      ]
     },
     "execution_count": 79,
     "metadata": {},
     "output_type": "execute_result"
    }
   ],
   "source": [
    "data = pd.DataFrame(np.array([[abs(right(i) - right(i * 2)) for i in [j for j in range(1, 5)]],\n",
    "                            [np.log2(abs(right(i * 2) - right(i * 4)) / abs(right(i) - right(i * 2))) for i in [j for j in range(1, 5)]], \n",
    "                            [abs(bilateral(i) - bilateral(i * 2)) for i in [j for j in range(1, 5)]], \n",
    "                            [np.log2(abs(bilateral(i * 2) - bilateral(i * 4)) / abs(bilateral(i) - bilateral(i * 2))) for i in [j for j in range(1, 5)]]]).T, \n",
    "                    columns=['eps_r', 'P_r', 'eps_bi', 'P_bi'], \n",
    "                    index=[i for i in range(1, 5)])\n",
    "data"
   ]
  },
  {
   "cell_type": "markdown",
   "metadata": {},
   "source": [
    "Как можно увидеть, при N->+inf и, соответственно, при h->0, погрешность eps->0."
   ]
  },
  {
   "cell_type": "markdown",
   "metadata": {},
   "source": [
    "ЧТО БУДЕТ, ЕСЛИ В ДАННЫЕ ВНЕСТИ ШУМ?"
   ]
  },
  {
   "cell_type": "code",
   "execution_count": 80,
   "metadata": {},
   "outputs": [],
   "source": [
    "def right_noize(N, x=1):\n",
    "    h = 10 ** -N\n",
    "    return (f(x + random()) - f(x - h + random())) / h\n",
    "\n",
    "def bilateral_noize(N, x=1):\n",
    "    h = 10 ** -N\n",
    "    return (f(x + h + random()) - f(x - h + random())) / (2 * h)"
   ]
  },
  {
   "cell_type": "markdown",
   "metadata": {},
   "source": [
    "Посмотрим на сходимость теперь:"
   ]
  },
  {
   "cell_type": "code",
   "execution_count": 81,
   "metadata": {},
   "outputs": [
    {
     "data": {
      "text/html": [
       "<div>\n",
       "<style scoped>\n",
       "    .dataframe tbody tr th:only-of-type {\n",
       "        vertical-align: middle;\n",
       "    }\n",
       "\n",
       "    .dataframe tbody tr th {\n",
       "        vertical-align: top;\n",
       "    }\n",
       "\n",
       "    .dataframe thead th {\n",
       "        text-align: right;\n",
       "    }\n",
       "</style>\n",
       "<table border=\"1\" class=\"dataframe\">\n",
       "  <thead>\n",
       "    <tr style=\"text-align: right;\">\n",
       "      <th></th>\n",
       "      <th>eps_r</th>\n",
       "      <th>P_r</th>\n",
       "      <th>eps_bi</th>\n",
       "      <th>P_bi</th>\n",
       "    </tr>\n",
       "  </thead>\n",
       "  <tbody>\n",
       "    <tr>\n",
       "      <th>1</th>\n",
       "      <td>5.475577e+01</td>\n",
       "      <td>10.549697</td>\n",
       "      <td>2.164940e+02</td>\n",
       "      <td>6.873737</td>\n",
       "    </tr>\n",
       "    <tr>\n",
       "      <th>2</th>\n",
       "      <td>4.867450e+03</td>\n",
       "      <td>11.135876</td>\n",
       "      <td>1.266936e+04</td>\n",
       "      <td>13.989650</td>\n",
       "    </tr>\n",
       "    <tr>\n",
       "      <th>3</th>\n",
       "      <td>1.531773e+06</td>\n",
       "      <td>19.530445</td>\n",
       "      <td>7.400171e+05</td>\n",
       "      <td>20.967178</td>\n",
       "    </tr>\n",
       "    <tr>\n",
       "      <th>4</th>\n",
       "      <td>6.696157e+07</td>\n",
       "      <td>25.929278</td>\n",
       "      <td>6.109408e+07</td>\n",
       "      <td>24.867975</td>\n",
       "    </tr>\n",
       "  </tbody>\n",
       "</table>\n",
       "</div>"
      ],
      "text/plain": [
       "          eps_r        P_r        eps_bi       P_bi\n",
       "1  5.475577e+01  10.549697  2.164940e+02   6.873737\n",
       "2  4.867450e+03  11.135876  1.266936e+04  13.989650\n",
       "3  1.531773e+06  19.530445  7.400171e+05  20.967178\n",
       "4  6.696157e+07  25.929278  6.109408e+07  24.867975"
      ]
     },
     "execution_count": 81,
     "metadata": {},
     "output_type": "execute_result"
    }
   ],
   "source": [
    "data = pd.DataFrame(np.array([[abs(right_noize(i) - right_noize(i * 2)) for i in [j for j in range(1, 5)]],\n",
    "                            [np.log2(abs(right_noize(i * 2) - right_noize(i * 4)) / abs(right_noize(i) - right_noize(i * 2))) for i in [j for j in range(1, 5)]], \n",
    "                            [abs(bilateral_noize(i) - bilateral_noize(i * 2)) for i in [j for j in range(1, 5)]], \n",
    "                            [np.log2(abs(bilateral_noize(i * 2) - bilateral_noize(i * 4)) / abs(bilateral_noize(i) - bilateral_noize(i * 2))) for i in [j for j in range(1, 5)]]]).T, \n",
    "                    columns=['eps_r', 'P_r', 'eps_bi', 'P_bi'], \n",
    "                    index=[i for i in range(1, 5)])\n",
    "data"
   ]
  },
  {
   "cell_type": "markdown",
   "metadata": {},
   "source": [
    "Значения расходятся."
   ]
  }
 ],
 "metadata": {
  "kernelspec": {
   "display_name": "Python 3.10.2 64-bit",
   "language": "python",
   "name": "python3"
  },
  "language_info": {
   "codemirror_mode": {
    "name": "ipython",
    "version": 3
   },
   "file_extension": ".py",
   "mimetype": "text/x-python",
   "name": "python",
   "nbconvert_exporter": "python",
   "pygments_lexer": "ipython3",
   "version": "3.10.2"
  },
  "orig_nbformat": 4,
  "vscode": {
   "interpreter": {
    "hash": "aee8b7b246df8f9039afb4144a1f6fd8d2ca17a180786b69acc140d282b71a49"
   }
  }
 },
 "nbformat": 4,
 "nbformat_minor": 2
}
