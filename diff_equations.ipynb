{
 "cells": [
  {
   "cell_type": "markdown",
   "metadata": {},
   "source": [
    "#### **Найти решение дифференциального уравнения:** ####"
   ]
  },
  {
   "cell_type": "code",
   "execution_count": 207,
   "metadata": {},
   "outputs": [],
   "source": [
    "import numpy as np\n",
    "import pandas as pd\n",
    "import matplotlib.pyplot as plt"
   ]
  },
  {
   "cell_type": "markdown",
   "metadata": {},
   "source": [
    "Выпишем условия данных функций для работы и последующей проверки:"
   ]
  },
  {
   "cell_type": "code",
   "execution_count": 208,
   "metadata": {},
   "outputs": [],
   "source": [
    "def check_f(n):\n",
    "    ans = []\n",
    "\n",
    "    for x in np.arange(0, 1, 1 / n):\n",
    "        ans.append(8 * x ** 2 + 4 * x + 5 + np.sin(3 * x))\n",
    "    \n",
    "    return ans\n",
    "\n",
    "def df_dx(x):\n",
    "    return 16 * x + 4 + 3 * np.cos(3 * x)"
   ]
  },
  {
   "cell_type": "markdown",
   "metadata": {},
   "source": [
    "Простой и модифицированный методы Эйлера:"
   ]
  },
  {
   "cell_type": "code",
   "execution_count": 209,
   "metadata": {},
   "outputs": [],
   "source": [
    "def Euler(n, x0=0, y0=5):\n",
    "    h = 1 / n\n",
    "    euler_y = []\n",
    "\n",
    "    for _ in range(n):\n",
    "        euler_y.append(y0)\n",
    "        y0 += h * df_dx(x0)\n",
    "        x0 += h\n",
    "\n",
    "    return euler_y\n",
    "\n",
    "def mod_Euler(n, x0=0, y0=5):\n",
    "    h = 1 / n\n",
    "    mod_euler_y = []\n",
    "\n",
    "    for _ in range(n):\n",
    "        mod_euler_y.append(y0)\n",
    "        y0 += h * (df_dx(x0) + df_dx(x0 + h)) / 2\n",
    "        x0 += h\n",
    "\n",
    "    return mod_euler_y\n"
   ]
  },
  {
   "cell_type": "markdown",
   "metadata": {},
   "source": [
    "Проверим метод, сравнив его с оригинальной функцией:"
   ]
  },
  {
   "cell_type": "code",
   "execution_count": 235,
   "metadata": {},
   "outputs": [
    {
     "name": "stdout",
     "output_type": "stream",
     "text": [
      "Original: 5.0 Euler: 5 Modified Euler: 5\n",
      "Original: 7.1816387600233345 Euler: 6.75 Modified Euler: 7.149383325827683\n",
      "Original: 9.997494986604055 Euler: 9.298766651655367 Modified Euler: 9.950293102280755\n",
      "Original: 13.278073196887922 Euler: 12.351819552906143 Modified Euler: 13.241254444385117\n"
     ]
    }
   ],
   "source": [
    "for i, j, k in zip(check_f(4), Euler(4), mod_Euler(4)):\n",
    "    print(f'Original: {i} Euler: {j} Modified Euler: {k}')\n"
   ]
  },
  {
   "cell_type": "code",
   "execution_count": 211,
   "metadata": {},
   "outputs": [
    {
     "data": {
      "image/png": "[encoded data removed]",
      "text/plain": [
       "<Figure size 640x480 with 1 Axes>"
      ]
     },
     "metadata": {},
     "output_type": "display_data"
    }
   ],
   "source": [
    "plt.plot(check_f(10), color='red')\n",
    "plt.plot(Euler(10), color='green')\n",
    "plt.plot(mod_Euler(10), color='blue')\n",
    "\n",
    "plt.show()"
   ]
  },
  {
   "cell_type": "markdown",
   "metadata": {},
   "source": [
    "Создадим таблицу для проверки качества метода:"
   ]
  },
  {
   "cell_type": "code",
   "execution_count": 232,
   "metadata": {},
   "outputs": [
    {
     "data": {
      "text/html": [
       "<div>\n",
       "<style scoped>\n",
       "    .dataframe tbody tr th:only-of-type {\n",
       "        vertical-align: middle;\n",
       "    }\n",
       "\n",
       "    .dataframe tbody tr th {\n",
       "        vertical-align: top;\n",
       "    }\n",
       "\n",
       "    .dataframe thead th {\n",
       "        text-align: right;\n",
       "    }\n",
       "</style>\n",
       "<table border=\"1\" class=\"dataframe\">\n",
       "  <thead>\n",
       "    <tr style=\"text-align: right;\">\n",
       "      <th></th>\n",
       "      <th>eps</th>\n",
       "      <th>P</th>\n",
       "      <th>eps_mod</th>\n",
       "      <th>P_mod</th>\n",
       "    </tr>\n",
       "  </thead>\n",
       "  <tbody>\n",
       "    <tr>\n",
       "      <th>2</th>\n",
       "      <td>1.497495</td>\n",
       "      <td>0.693072</td>\n",
       "      <td>0.194442</td>\n",
       "      <td>2.400828</td>\n",
       "    </tr>\n",
       "    <tr>\n",
       "      <th>4</th>\n",
       "      <td>0.926254</td>\n",
       "      <td>0.804683</td>\n",
       "      <td>0.036819</td>\n",
       "      <td>2.665883</td>\n",
       "    </tr>\n",
       "    <tr>\n",
       "      <th>8</th>\n",
       "      <td>0.530269</td>\n",
       "      <td>0.884526</td>\n",
       "      <td>0.005802</td>\n",
       "      <td>2.614463</td>\n",
       "    </tr>\n",
       "    <tr>\n",
       "      <th>16</th>\n",
       "      <td>0.287228</td>\n",
       "      <td>0.938194</td>\n",
       "      <td>0.000947</td>\n",
       "      <td>2.471572</td>\n",
       "    </tr>\n",
       "    <tr>\n",
       "      <th>32</th>\n",
       "      <td>0.149900</td>\n",
       "      <td>0.968189</td>\n",
       "      <td>0.000171</td>\n",
       "      <td>2.315813</td>\n",
       "    </tr>\n",
       "    <tr>\n",
       "      <th>64</th>\n",
       "      <td>0.076621</td>\n",
       "      <td>0.983884</td>\n",
       "      <td>0.000034</td>\n",
       "      <td>2.189631</td>\n",
       "    </tr>\n",
       "    <tr>\n",
       "      <th>128</th>\n",
       "      <td>0.038741</td>\n",
       "      <td>0.991892</td>\n",
       "      <td>0.000008</td>\n",
       "      <td>2.105376</td>\n",
       "    </tr>\n",
       "    <tr>\n",
       "      <th>256</th>\n",
       "      <td>0.019480</td>\n",
       "      <td>0.995933</td>\n",
       "      <td>0.000002</td>\n",
       "      <td>2.055797</td>\n",
       "    </tr>\n",
       "  </tbody>\n",
       "</table>\n",
       "</div>"
      ],
      "text/plain": [
       "          eps         P   eps_mod     P_mod\n",
       "2    1.497495  0.693072  0.194442  2.400828\n",
       "4    0.926254  0.804683  0.036819  2.665883\n",
       "8    0.530269  0.884526  0.005802  2.614463\n",
       "16   0.287228  0.938194  0.000947  2.471572\n",
       "32   0.149900  0.968189  0.000171  2.315813\n",
       "64   0.076621  0.983884  0.000034  2.189631\n",
       "128  0.038741  0.991892  0.000008  2.105376\n",
       "256  0.019480  0.995933  0.000002  2.055797"
      ]
     },
     "execution_count": 232,
     "metadata": {},
     "output_type": "execute_result"
    }
   ],
   "source": [
    "data = pd.DataFrame(np.array([[abs(Euler(i)[-1] - check_f(i)[-1]) for i in [2 ** j for j in range(1, 9)]],\n",
    "                            [np.log2(abs(Euler(i)[-1] - check_f(i)[-1]) / abs(Euler(i * 2)[-1] - check_f(i * 2)[-1])) for i in [2 ** j for j in range(1, 9)]], \n",
    "                            [abs(mod_Euler(i)[-1] - check_f(i)[-1]) for i in [2 ** j for j in range(1, 9)]], \n",
    "                            [np.log2(abs(mod_Euler(i)[-1] - check_f(i)[-1]) / abs(mod_Euler(i * 2)[-1] - check_f(i * 2)[-1])) for i in [2 ** j for j in range(1, 9)]]]).T, \n",
    "                    columns=['eps', 'P', 'eps_mod', 'P_mod'], \n",
    "                    index=[2 ** i for i in range(1, 9)])\n",
    "data"
   ]
  }
 ],
 "metadata": {
  "kernelspec": {
   "display_name": "Python 3.10.2 64-bit",
   "language": "python",
   "name": "python3"
  },
  "language_info": {
   "codemirror_mode": {
    "name": "ipython",
    "version": 3
   },
   "file_extension": ".py",
   "mimetype": "text/x-python",
   "name": "python",
   "nbconvert_exporter": "python",
   "pygments_lexer": "ipython3",
   "version": "3.10.2"
  },
  "orig_nbformat": 4,
  "vscode": {
   "interpreter": {
    "hash": "aee8b7b246df8f9039afb4144a1f6fd8d2ca17a180786b69acc140d282b71a49"
   }
  }
 },
 "nbformat": 4,
 "nbformat_minor": 2
}
