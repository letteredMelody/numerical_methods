{
 "cells": [
  {
   "cell_type": "markdown",
   "metadata": {},
   "source": [
    "#### **Найти решение дифференциального уравнения:** ####"
   ]
  },
  {
   "cell_type": "code",
   "execution_count": 14,
   "metadata": {},
   "outputs": [],
   "source": [
    "import numpy as np\n",
    "import pandas as pd\n",
    "import matplotlib.pyplot as plt"
   ]
  },
  {
   "cell_type": "markdown",
   "metadata": {},
   "source": [
    "Выпишем условия данных функций для работы и последующей проверки:"
   ]
  },
  {
   "cell_type": "code",
   "execution_count": 15,
   "metadata": {},
   "outputs": [],
   "source": [
    "def check_f(x):\n",
    "    return 8 * x ** 2 + 4 * x + 5 + np.sin(3 * x)\n",
    "\n",
    "def df_dx(x):\n",
    "    return 16 * x + 4 + 3 * np.cos(3 * x)"
   ]
  },
  {
   "cell_type": "markdown",
   "metadata": {},
   "source": [
    "Простой и модифицированный методы Эйлера:"
   ]
  },
  {
   "cell_type": "code",
   "execution_count": 16,
   "metadata": {},
   "outputs": [],
   "source": [
    "def Euler(n, x0=0, y0=0, h=0.1):\n",
    "    for _ in range(n):\n",
    "        y0 += h * df_dx(x0)\n",
    "        x0 += h\n",
    "\n",
    "    return y0\n",
    "\n",
    "def mod_Euler(n, x0=0, y0=0, h=0.1):\n",
    "    for _ in range(n):\n",
    "        y0 += h * (df_dx(x0) + df_dx(x0 + h)) / 2\n",
    "        x0 += h\n",
    "\n",
    "    return y0\n"
   ]
  },
  {
   "cell_type": "markdown",
   "metadata": {},
   "source": [
    "Проверим метод, сравнив его с оригинальной функцией и прибавив константу, которая пропадает при дифференцировании, но есть в оригинальной функции:"
   ]
  },
  {
   "cell_type": "code",
   "execution_count": 17,
   "metadata": {},
   "outputs": [
    {
     "name": "stdout",
     "output_type": "stream",
     "text": [
      "8.812039085967227\n",
      "8.580684621691784\n",
      "8.805038284863286\n"
     ]
    }
   ],
   "source": [
    "print(check_f(0.4))\n",
    "print(Euler(4) + 5)\n",
    "print(mod_Euler(4) + 5)"
   ]
  },
  {
   "cell_type": "code",
   "execution_count": 18,
   "metadata": {},
   "outputs": [],
   "source": [
    "yi_e, yi_mod = 0, 0\n",
    "y_test_e, y_test_mod = [], []\n",
    "\n",
    "for i in np.arange(0, 1, 0.1):\n",
    "    y_test_e.append(yi_e)\n",
    "    y_test_mod.append(yi_mod)\n",
    "    \n",
    "    yi_e = Euler(1, x0=i, y0=yi_e)\n",
    "    yi_mod = mod_Euler(1, x0=i, y0=yi_mod)"
   ]
  },
  {
   "cell_type": "code",
   "execution_count": 19,
   "metadata": {},
   "outputs": [
    {
     "data": {
      "image/png": "[encoded data removed]",
      "text/plain": [
       "<Figure size 640x480 with 1 Axes>"
      ]
     },
     "metadata": {},
     "output_type": "display_data"
    }
   ],
   "source": [
    "x_test = np.arange(0, 1, 0.1)\n",
    "\n",
    "plt.plot(check_f(x_test), color='red')\n",
    "plt.plot(Euler(1, x0=x_test, y0=y_test_e) + 5, color='green')\n",
    "plt.plot(mod_Euler(1, x0=x_test, y0=y_test_mod) + 5, color='blue')\n",
    "\n",
    "plt.show()"
   ]
  },
  {
   "cell_type": "markdown",
   "metadata": {},
   "source": [
    "#### <font color='red'> **Почему метод Эйлера лучше модифицированого?** </font> ####"
   ]
  },
  {
   "cell_type": "markdown",
   "metadata": {},
   "source": [
    "Создадим таблицу для проверки качества метода:"
   ]
  },
  {
   "cell_type": "code",
   "execution_count": 31,
   "metadata": {},
   "outputs": [
    {
     "data": {
      "text/html": [
       "<div>\n",
       "<style scoped>\n",
       "    .dataframe tbody tr th:only-of-type {\n",
       "        vertical-align: middle;\n",
       "    }\n",
       "\n",
       "    .dataframe tbody tr th {\n",
       "        vertical-align: top;\n",
       "    }\n",
       "\n",
       "    .dataframe thead th {\n",
       "        text-align: right;\n",
       "    }\n",
       "</style>\n",
       "<table border=\"1\" class=\"dataframe\">\n",
       "  <thead>\n",
       "    <tr style=\"text-align: right;\">\n",
       "      <th></th>\n",
       "      <th>eps</th>\n",
       "      <th>P</th>\n",
       "      <th>eps_mod</th>\n",
       "      <th>P_mod</th>\n",
       "    </tr>\n",
       "  </thead>\n",
       "  <tbody>\n",
       "    <tr>\n",
       "      <th>4</th>\n",
       "      <td>5.030314</td>\n",
       "      <td>3.207989</td>\n",
       "      <td>5.185351</td>\n",
       "      <td>3.259360</td>\n",
       "    </tr>\n",
       "    <tr>\n",
       "      <th>8</th>\n",
       "      <td>16.137194</td>\n",
       "      <td>4.185145</td>\n",
       "      <td>16.900928</td>\n",
       "      <td>4.062242</td>\n",
       "    </tr>\n",
       "    <tr>\n",
       "      <th>16</th>\n",
       "      <td>67.536493</td>\n",
       "      <td>3.793877</td>\n",
       "      <td>68.655665</td>\n",
       "      <td>3.773523</td>\n",
       "    </tr>\n",
       "    <tr>\n",
       "      <th>32</th>\n",
       "      <td>256.225167</td>\n",
       "      <td>3.917826</td>\n",
       "      <td>259.073754</td>\n",
       "      <td>3.894410</td>\n",
       "    </tr>\n",
       "  </tbody>\n",
       "</table>\n",
       "</div>"
      ],
      "text/plain": [
       "           eps         P     eps_mod     P_mod\n",
       "4     5.030314  3.207989    5.185351  3.259360\n",
       "8    16.137194  4.185145   16.900928  4.062242\n",
       "16   67.536493  3.793877   68.655665  3.773523\n",
       "32  256.225167  3.917826  259.073754  3.894410"
      ]
     },
     "execution_count": 31,
     "metadata": {},
     "output_type": "execute_result"
    }
   ],
   "source": [
    "data = pd.DataFrame(np.array([[abs(Euler(i) - Euler(i * 2)) for i in [2 ** j for j in range(2, 6)]],\n",
    "                            [abs(Euler(i * 2) - Euler(i * 4)) / abs(Euler(i) - Euler(i * 2)) for i in [2 ** j for j in range(2, 6)]], \n",
    "                            [abs(mod_Euler(i) - mod_Euler(i * 2)) for i in [2 ** j for j in range(2, 6)]], \n",
    "                            [abs(mod_Euler(i * 2) - mod_Euler(i * 4)) / abs(mod_Euler(i) - mod_Euler(i * 2)) for i in [2 ** j for j in range(2, 6)]]]).T, \n",
    "                    columns=['eps', 'P', 'eps_mod', 'P_mod'], \n",
    "                    index=[2 ** i for i in range(2, 6)])\n",
    "data"
   ]
  },
  {
   "cell_type": "markdown",
   "metadata": {},
   "source": [
    "Метод расходится, так как шаг в методе Эйлера взят слишком большим."
   ]
  }
 ],
 "metadata": {
  "kernelspec": {
   "display_name": "Python 3.10.2 64-bit",
   "language": "python",
   "name": "python3"
  },
  "language_info": {
   "codemirror_mode": {
    "name": "ipython",
    "version": 3
   },
   "file_extension": ".py",
   "mimetype": "text/x-python",
   "name": "python",
   "nbconvert_exporter": "python",
   "pygments_lexer": "ipython3",
   "version": "3.10.2"
  },
  "orig_nbformat": 4,
  "vscode": {
   "interpreter": {
    "hash": "aee8b7b246df8f9039afb4144a1f6fd8d2ca17a180786b69acc140d282b71a49"
   }
  }
 },
 "nbformat": 4,
 "nbformat_minor": 2
}
